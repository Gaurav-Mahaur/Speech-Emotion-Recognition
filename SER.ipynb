{
 "cells": [
  {
   "cell_type": "code",
   "execution_count": 1,
   "id": "6adf28fb",
   "metadata": {},
   "outputs": [],
   "source": [
    "import pandas as pd\n",
    "import numpy as np\n",
    "import os\n",
    "# import seaborn as sns\n",
    "import matplotlib.pyplot as plt\n",
    "import librosa\n",
    "import librosa.display\n"
   ]
  },
  {
   "cell_type": "code",
   "execution_count": 2,
   "id": "85efed35",
   "metadata": {},
   "outputs": [],
   "source": [
    "import os,glob,pickle"
   ]
  },
  {
   "cell_type": "code",
   "execution_count": 3,
   "id": "0837c57d",
   "metadata": {},
   "outputs": [],
   "source": [
    "def get_features(filename):\n",
    "    y, sr = librosa.load(filename, duration=3, offset=0.5)\n",
    "    mfcc = np.mean(librosa.feature.mfcc(y=y, sr=sr, n_mfcc=40).T, axis=0)\n",
    "    return mfcc\n"
   ]
  },
  {
   "cell_type": "code",
   "execution_count": 4,
   "id": "061c549f",
   "metadata": {},
   "outputs": [],
   "source": [
    "\n",
    "def load_data(test_size=0.2):\n",
    "    x=[]\n",
    "    y=[]\n",
    "    for file in glob.glob(r\"C:\\Users\\Saurabh\\ml\\btp\\data\\*\"):\n",
    "        basename = os.path.basename(file)\n",
    "        label = file.split('_')[-1]\n",
    "        label = label.split('.')[0]\n",
    "        \n",
    "        for f in glob.glob(file+\"\\*\"):\n",
    "            y.append(label.lower())\n",
    "            x.append(get_features(f))\n",
    "    return x,y"
   ]
  },
  {
   "cell_type": "code",
   "execution_count": 5,
   "id": "579110c9",
   "metadata": {},
   "outputs": [],
   "source": [
    "x,y=load_data()"
   ]
  },
  {
   "cell_type": "code",
   "execution_count": 6,
   "id": "1b7a1bdb",
   "metadata": {},
   "outputs": [],
   "source": [
    "x=np.array(x)\n",
    "# y=y.toarray()"
   ]
  },
  {
   "cell_type": "code",
   "execution_count": 7,
   "id": "d881dcc7",
   "metadata": {},
   "outputs": [
    {
     "name": "stdout",
     "output_type": "stream",
     "text": [
      "(2792, 40)\n"
     ]
    }
   ],
   "source": [
    "print(x.shape)"
   ]
  },
  {
   "cell_type": "code",
   "execution_count": 8,
   "id": "08bb3386",
   "metadata": {},
   "outputs": [],
   "source": [
    "a=[]\n",
    "b=[]"
   ]
  },
  {
   "cell_type": "code",
   "execution_count": 9,
   "id": "64f65cc6",
   "metadata": {},
   "outputs": [],
   "source": [
    "a=x\n",
    "b=y"
   ]
  },
  {
   "cell_type": "code",
   "execution_count": 10,
   "id": "f86e40ee",
   "metadata": {},
   "outputs": [],
   "source": [
    "from sklearn.preprocessing import OneHotEncoder,LabelEncoder\n",
    "enc = LabelEncoder()\n",
    "enc.fit(y)\n",
    "nf=enc.transform(y)"
   ]
  },
  {
   "cell_type": "code",
   "execution_count": 11,
   "id": "67c34835",
   "metadata": {},
   "outputs": [
    {
     "name": "stdout",
     "output_type": "stream",
     "text": [
      "[0 0 0 ... 5 5 5]\n"
     ]
    }
   ],
   "source": [
    "print(nf)"
   ]
  },
  {
   "cell_type": "code",
   "execution_count": 12,
   "id": "346dd78b",
   "metadata": {},
   "outputs": [],
   "source": [
    "ncf = nf.reshape(-1, 1) \n",
    "ohe = OneHotEncoder(sparse=False)\n",
    "ncf= ohe.fit_transform(ncf)\n"
   ]
  },
  {
   "cell_type": "code",
   "execution_count": 13,
   "id": "332a54ff",
   "metadata": {},
   "outputs": [],
   "source": [
    "y=ncf"
   ]
  },
  {
   "cell_type": "code",
   "execution_count": 14,
   "id": "e30be465",
   "metadata": {},
   "outputs": [
    {
     "data": {
      "text/plain": [
       "(2792, 40, 1)"
      ]
     },
     "execution_count": 14,
     "metadata": {},
     "output_type": "execute_result"
    }
   ],
   "source": [
    "x= np.expand_dims(x, -1)\n",
    "x.shape"
   ]
  },
  {
   "cell_type": "code",
   "execution_count": 15,
   "id": "5020b719",
   "metadata": {},
   "outputs": [],
   "source": [
    "# from keras.models import Sequential\n",
    "# from keras.layers import Dense, LSTM, Dropout\n",
    "\n",
    "# model = Sequential([\n",
    "#     LSTM(256, return_sequences=False, input_shape=(40,1)),\n",
    "#     Dropout(0.2),\n",
    "#     Dense(128, activation='relu'),\n",
    "#     Dropout(0.2),\n",
    "#     Dense(64, activation='relu'),\n",
    "#     Dropout(0.2),\n",
    "#     Dense(8, activation='softmax')\n",
    "# ])\n",
    "\n",
    "# model.compile(loss='categorical_crossentropy', optimizer='adam', metrics=['accuracy'])\n",
    "# model.summary()"
   ]
  },
  {
   "cell_type": "code",
   "execution_count": 16,
   "id": "724ec3ec",
   "metadata": {},
   "outputs": [],
   "source": [
    "# md = model.fit(x, y, validation_split=0.2, epochs=10, batch_size=64)"
   ]
  },
  {
   "cell_type": "code",
   "execution_count": 42,
   "id": "b3a7cb4f",
   "metadata": {},
   "outputs": [
    {
     "data": {
      "text/plain": [
       "(2792, 40, 1)"
      ]
     },
     "execution_count": 42,
     "metadata": {},
     "output_type": "execute_result"
    }
   ],
   "source": [
    "x.shape"
   ]
  },
  {
   "cell_type": "code",
   "execution_count": 18,
   "id": "0c95ed57",
   "metadata": {},
   "outputs": [],
   "source": [
    "from sklearn.model_selection import train_test_split\n",
    "x_train,x_test,y_train,y_test=train_test_split(np.array(x),y,test_size=0.2,random_state=0)"
   ]
  },
  {
   "cell_type": "code",
   "execution_count": 36,
   "id": "99218f26",
   "metadata": {},
   "outputs": [
    {
     "name": "stdout",
     "output_type": "stream",
     "text": [
      "Model: \"sequential_2\"\n",
      "_________________________________________________________________\n",
      " Layer (type)                Output Shape              Param #   \n",
      "=================================================================\n",
      " conv1d_8 (Conv1D)           (None, 40, 256)           1536      \n",
      "                                                                 \n",
      " dropout_2 (Dropout)         (None, 40, 256)           0         \n",
      "                                                                 \n",
      " activation_9 (Activation)   (None, 40, 256)           0         \n",
      "                                                                 \n",
      " conv1d_9 (Conv1D)           (None, 40, 128)           163968    \n",
      "                                                                 \n",
      " dropout_3 (Dropout)         (None, 40, 128)           0         \n",
      "                                                                 \n",
      " activation_10 (Activation)  (None, 40, 128)           0         \n",
      "                                                                 \n",
      " max_pooling1d_2 (MaxPooling  (None, 5, 128)           0         \n",
      " 1D)                                                             \n",
      "                                                                 \n",
      " conv1d_10 (Conv1D)          (None, 5, 128)            82048     \n",
      "                                                                 \n",
      " dropout_4 (Dropout)         (None, 5, 128)            0         \n",
      "                                                                 \n",
      " activation_11 (Activation)  (None, 5, 128)            0         \n",
      "                                                                 \n",
      " conv1d_11 (Conv1D)          (None, 5, 128)            82048     \n",
      "                                                                 \n",
      " dropout_5 (Dropout)         (None, 5, 128)            0         \n",
      "                                                                 \n",
      " activation_12 (Activation)  (None, 5, 128)            0         \n",
      "                                                                 \n",
      " flatten_2 (Flatten)         (None, 640)               0         \n",
      "                                                                 \n",
      " dense_1 (Dense)             (None, 8)                 5128      \n",
      "                                                                 \n",
      " activation_13 (Activation)  (None, 8)                 0         \n",
      "                                                                 \n",
      "=================================================================\n",
      "Total params: 334,728\n",
      "Trainable params: 334,728\n",
      "Non-trainable params: 0\n",
      "_________________________________________________________________\n"
     ]
    },
    {
     "name": "stderr",
     "output_type": "stream",
     "text": [
      "C:\\Users\\Saurabh\\anaconda3\\envs\\tensorflow\\lib\\site-packages\\keras\\optimizer_v2\\rmsprop.py:130: UserWarning: The `lr` argument is deprecated, use `learning_rate` instead.\n",
      "  super(RMSprop, self).__init__(name, **kwargs)\n"
     ]
    }
   ],
   "source": [
    "import tensorflow as tf\n",
    "from tensorflow import keras\n",
    "from tensorflow.keras import layers\n",
    "from tensorflow.keras.models import Sequential, load_model\n",
    "from tensorflow.keras.regularizers import l2\n",
    "from keras.layers import Conv1D, MaxPooling1D, AveragePooling1D\n",
    "# from keras.utils import to_categorical\n",
    "from keras.layers import Activation, Dense\n",
    "from keras.layers import Input, Flatten, Dropout, Activation\n",
    "model = Sequential()\n",
    "\n",
    "model.add(Conv1D(256, 5,padding='same',\n",
    "                 input_shape=(40,1)))\n",
    "model.add(Dropout(0.2))\n",
    "model.add(Activation('relu'))\n",
    "model.add(Conv1D(128, 5,padding='same'))\n",
    "model.add(Dropout(0.2))\n",
    "model.add(Activation('relu'))\n",
    "model.add(MaxPooling1D(pool_size=(8)))\n",
    "model.add(Conv1D(128, 5,padding='same',))\n",
    "model.add(Dropout(0.2))\n",
    "model.add(Activation('relu'))\n",
    "#model.add(Conv1D(128, 5,padding='same',))\n",
    "#model.add(Activation('relu'))\n",
    "#model.add(Conv1D(128, 5,padding='same',))\n",
    "#model.add(Activation('relu'))\n",
    "#model.add(Dropout(0.2))\n",
    "model.add(Conv1D(128, 5,padding='same',))\n",
    "model.add(Dropout(0.2))\n",
    "model.add(Activation('relu'))\n",
    "model.add(Flatten())\n",
    "model.add(Dense(8))\n",
    "model.add(Activation('softmax'))\n",
    "opt = keras.optimizers.RMSprop(lr=0.00001, decay=1e-6)\n",
    "model.summary()"
   ]
  },
  {
   "cell_type": "code",
   "execution_count": 37,
   "id": "eb8ebe13",
   "metadata": {},
   "outputs": [],
   "source": [
    "from tensorflow.keras import backend as K\n",
    "\n",
    "def recall_m(y_true, y_pred):\n",
    "    true_positives = K.sum(K.round(K.clip(y_true * y_pred, 0, 1)))\n",
    "    possible_positives = K.sum(K.round(K.clip(y_true, 0, 1)))\n",
    "    recall = true_positives / (possible_positives + K.epsilon())\n",
    "    return recall\n",
    "\n",
    "def precision_m(y_true, y_pred):\n",
    "    true_positives = K.sum(K.round(K.clip(y_true * y_pred, 0, 1)))\n",
    "    predicted_positives = K.sum(K.round(K.clip(y_pred, 0, 1)))\n",
    "    precision = true_positives / (predicted_positives + K.epsilon())\n",
    "    return precision\n",
    "\n",
    "def f1_m(y_true, y_pred):\n",
    "    precision = precision_m(y_true, y_pred)\n",
    "    recall = recall_m(y_true, y_pred)\n",
    "    return 2*((precision*recall)/(precision+recall+K.epsilon()))"
   ]
  },
  {
   "cell_type": "code",
   "execution_count": 38,
   "id": "157771ec",
   "metadata": {},
   "outputs": [],
   "source": [
    "model.compile(loss='categorical_crossentropy', optimizer=opt,metrics=['acc',f1_m,precision_m, recall_m])"
   ]
  },
  {
   "cell_type": "code",
   "execution_count": 40,
   "id": "b5811e02",
   "metadata": {},
   "outputs": [
    {
     "name": "stdout",
     "output_type": "stream",
     "text": [
      "Epoch 1/25\n",
      "140/140 [==============================] - 2s 12ms/step - loss: 1.0278 - acc: 0.6176 - f1_m: 0.5824 - precision_m: 0.7549 - recall_m: 0.4816 - val_loss: 0.8007 - val_acc: 0.7692 - val_f1_m: 0.5939 - val_precision_m: 0.9366 - val_recall_m: 0.4455\n",
      "Epoch 2/25\n",
      "140/140 [==============================] - 2s 13ms/step - loss: 0.9707 - acc: 0.6404 - f1_m: 0.6044 - precision_m: 0.7668 - recall_m: 0.5070 - val_loss: 0.7324 - val_acc: 0.7925 - val_f1_m: 0.6531 - val_precision_m: 0.9426 - val_recall_m: 0.5099\n",
      "Epoch 3/25\n",
      "140/140 [==============================] - 2s 13ms/step - loss: 0.8916 - acc: 0.6619 - f1_m: 0.6428 - precision_m: 0.7902 - recall_m: 0.5480 - val_loss: 0.6782 - val_acc: 0.8140 - val_f1_m: 0.6782 - val_precision_m: 0.9495 - val_recall_m: 0.5367\n",
      "Epoch 4/25\n",
      "140/140 [==============================] - 2s 13ms/step - loss: 0.8272 - acc: 0.7044 - f1_m: 0.6733 - precision_m: 0.8018 - recall_m: 0.5859 - val_loss: 0.6282 - val_acc: 0.8211 - val_f1_m: 0.7247 - val_precision_m: 0.9436 - val_recall_m: 0.5974\n",
      "Epoch 5/25\n",
      "140/140 [==============================] - 2s 13ms/step - loss: 0.7498 - acc: 0.7282 - f1_m: 0.6936 - precision_m: 0.8135 - recall_m: 0.6098 - val_loss: 0.5880 - val_acc: 0.8336 - val_f1_m: 0.7413 - val_precision_m: 0.9378 - val_recall_m: 0.6224\n",
      "Epoch 6/25\n",
      "140/140 [==============================] - 2s 13ms/step - loss: 0.7301 - acc: 0.7277 - f1_m: 0.7060 - precision_m: 0.8064 - recall_m: 0.6324 - val_loss: 0.5507 - val_acc: 0.8569 - val_f1_m: 0.7689 - val_precision_m: 0.9490 - val_recall_m: 0.6565\n",
      "Epoch 7/25\n",
      "140/140 [==============================] - 2s 13ms/step - loss: 0.6696 - acc: 0.7550 - f1_m: 0.7337 - precision_m: 0.8294 - recall_m: 0.6629 - val_loss: 0.5107 - val_acc: 0.8784 - val_f1_m: 0.7914 - val_precision_m: 0.9447 - val_recall_m: 0.6870\n",
      "Epoch 8/25\n",
      "140/140 [==============================] - 2s 13ms/step - loss: 0.6436 - acc: 0.7555 - f1_m: 0.7419 - precision_m: 0.8292 - recall_m: 0.6753 - val_loss: 0.4976 - val_acc: 0.8623 - val_f1_m: 0.7940 - val_precision_m: 0.9368 - val_recall_m: 0.6958\n",
      "Epoch 9/25\n",
      "140/140 [==============================] - 2s 13ms/step - loss: 0.6184 - acc: 0.7788 - f1_m: 0.7604 - precision_m: 0.8338 - recall_m: 0.7028 - val_loss: 0.4558 - val_acc: 0.8962 - val_f1_m: 0.8214 - val_precision_m: 0.9499 - val_recall_m: 0.7281\n",
      "Epoch 10/25\n",
      "140/140 [==============================] - 2s 13ms/step - loss: 0.5475 - acc: 0.7998 - f1_m: 0.7875 - precision_m: 0.8555 - recall_m: 0.7335 - val_loss: 0.4364 - val_acc: 0.8784 - val_f1_m: 0.8260 - val_precision_m: 0.9418 - val_recall_m: 0.7407\n",
      "Epoch 11/25\n",
      "140/140 [==============================] - 2s 14ms/step - loss: 0.5357 - acc: 0.8034 - f1_m: 0.7867 - precision_m: 0.8516 - recall_m: 0.7346 - val_loss: 0.4047 - val_acc: 0.9034 - val_f1_m: 0.8570 - val_precision_m: 0.9504 - val_recall_m: 0.7838\n",
      "Epoch 12/25\n",
      "140/140 [==============================] - 2s 14ms/step - loss: 0.4974 - acc: 0.8227 - f1_m: 0.8098 - precision_m: 0.8661 - recall_m: 0.7641 - val_loss: 0.3962 - val_acc: 0.9034 - val_f1_m: 0.8647 - val_precision_m: 0.9459 - val_recall_m: 0.8000\n",
      "Epoch 13/25\n",
      "140/140 [==============================] - 2s 13ms/step - loss: 0.4643 - acc: 0.8312 - f1_m: 0.8215 - precision_m: 0.8680 - recall_m: 0.7819 - val_loss: 0.3746 - val_acc: 0.9088 - val_f1_m: 0.8797 - val_precision_m: 0.9505 - val_recall_m: 0.8214\n",
      "Epoch 14/25\n",
      "140/140 [==============================] - 2s 13ms/step - loss: 0.4654 - acc: 0.8348 - f1_m: 0.8240 - precision_m: 0.8688 - recall_m: 0.7862 - val_loss: 0.3625 - val_acc: 0.9088 - val_f1_m: 0.8862 - val_precision_m: 0.9514 - val_recall_m: 0.8321\n",
      "Epoch 15/25\n",
      "140/140 [==============================] - 2s 14ms/step - loss: 0.4555 - acc: 0.8383 - f1_m: 0.8278 - precision_m: 0.8698 - recall_m: 0.7923 - val_loss: 0.3446 - val_acc: 0.9123 - val_f1_m: 0.8894 - val_precision_m: 0.9517 - val_recall_m: 0.8375\n",
      "Epoch 16/25\n",
      "140/140 [==============================] - 2s 14ms/step - loss: 0.4398 - acc: 0.8459 - f1_m: 0.8443 - precision_m: 0.8849 - recall_m: 0.8097 - val_loss: 0.3341 - val_acc: 0.9177 - val_f1_m: 0.8962 - val_precision_m: 0.9485 - val_recall_m: 0.8518\n",
      "Epoch 17/25\n",
      "140/140 [==============================] - 2s 13ms/step - loss: 0.3973 - acc: 0.8549 - f1_m: 0.8537 - precision_m: 0.8918 - recall_m: 0.8207 - val_loss: 0.3077 - val_acc: 0.9231 - val_f1_m: 0.9141 - val_precision_m: 0.9568 - val_recall_m: 0.8768\n",
      "Epoch 18/25\n",
      "140/140 [==============================] - 2s 13ms/step - loss: 0.3623 - acc: 0.8639 - f1_m: 0.8598 - precision_m: 0.8919 - recall_m: 0.8317 - val_loss: 0.2925 - val_acc: 0.9213 - val_f1_m: 0.9125 - val_precision_m: 0.9530 - val_recall_m: 0.8768\n",
      "Epoch 19/25\n",
      "140/140 [==============================] - 2s 14ms/step - loss: 0.3534 - acc: 0.8724 - f1_m: 0.8696 - precision_m: 0.8996 - recall_m: 0.8430 - val_loss: 0.2840 - val_acc: 0.9267 - val_f1_m: 0.9192 - val_precision_m: 0.9574 - val_recall_m: 0.8857\n",
      "Epoch 20/25\n",
      "140/140 [==============================] - 2s 14ms/step - loss: 0.3767 - acc: 0.8625 - f1_m: 0.8620 - precision_m: 0.8898 - recall_m: 0.8377 - val_loss: 0.2929 - val_acc: 0.9141 - val_f1_m: 0.9083 - val_precision_m: 0.9436 - val_recall_m: 0.8768\n",
      "Epoch 21/25\n",
      "140/140 [==============================] - 2s 14ms/step - loss: 0.3525 - acc: 0.8701 - f1_m: 0.8716 - precision_m: 0.8964 - recall_m: 0.8497 - val_loss: 0.2776 - val_acc: 0.9249 - val_f1_m: 0.9235 - val_precision_m: 0.9581 - val_recall_m: 0.8929\n",
      "Epoch 22/25\n",
      "140/140 [==============================] - 2s 13ms/step - loss: 0.3332 - acc: 0.8751 - f1_m: 0.8735 - precision_m: 0.8996 - recall_m: 0.8502 - val_loss: 0.2747 - val_acc: 0.9195 - val_f1_m: 0.9199 - val_precision_m: 0.9505 - val_recall_m: 0.8929\n",
      "Epoch 23/25\n",
      "140/140 [==============================] - 2s 13ms/step - loss: 0.3259 - acc: 0.8854 - f1_m: 0.8789 - precision_m: 0.9033 - recall_m: 0.8572 - val_loss: 0.2749 - val_acc: 0.9177 - val_f1_m: 0.9125 - val_precision_m: 0.9445 - val_recall_m: 0.8839\n",
      "Epoch 24/25\n",
      "140/140 [==============================] - 2s 14ms/step - loss: 0.3276 - acc: 0.8858 - f1_m: 0.8865 - precision_m: 0.9043 - recall_m: 0.8705 - val_loss: 0.2650 - val_acc: 0.9231 - val_f1_m: 0.9163 - val_precision_m: 0.9466 - val_recall_m: 0.8893\n",
      "Epoch 25/25\n",
      "140/140 [==============================] - 2s 13ms/step - loss: 0.2979 - acc: 0.8912 - f1_m: 0.8899 - precision_m: 0.9060 - recall_m: 0.8754 - val_loss: 0.2612 - val_acc: 0.9195 - val_f1_m: 0.9170 - val_precision_m: 0.9466 - val_recall_m: 0.8911\n"
     ]
    }
   ],
   "source": [
    "cnn=model.fit(x_train, y_train,validation_data=(x_test,y_test), batch_size=16, epochs=25)"
   ]
  },
  {
   "cell_type": "code",
   "execution_count": 41,
   "id": "a40e5716",
   "metadata": {},
   "outputs": [
    {
     "name": "stdout",
     "output_type": "stream",
     "text": [
      "loss:  0.2611517608165741\n",
      "f1 score:  0.9199826717376709\n",
      "precision:  0.9482076168060303\n",
      "accuracy:  0.9194990992546082\n",
      "recall:  0.8940972089767456\n"
     ]
    }
   ],
   "source": [
    "loss, accuracy, f1_score, precision, recall = model.evaluate(x_test, y_test, verbose=0)\n",
    "# test_accuracy=model.evaluate(x_test,y_test,verbose=1)\n",
    "# print(test_accuracy[1])\n",
    "# test_accuracy\n",
    "print(\"loss: \",loss)\n",
    "print(\"f1 score: \",f1_score)\n",
    "print(\"precision: \",precision)\n",
    "print(\"accuracy: \",accuracy)\n",
    "print(\"recall: \",recall)"
   ]
  },
  {
   "cell_type": "code",
   "execution_count": 42,
   "id": "75af620e",
   "metadata": {},
   "outputs": [
    {
     "name": "stdout",
     "output_type": "stream",
     "text": [
      "[[71  0  1  0  0  1  0  1]\n",
      " [ 0 55  0  1  2 10  4  0]\n",
      " [ 5  0 69  1  0  0  0  0]\n",
      " [ 6  0  1 82  0  0  5  0]\n",
      " [ 0  0  0  0 83  0  0  0]\n",
      " [ 0  0  0  0  0 77  0  0]\n",
      " [ 0  0  0  2  1  0 44  1]\n",
      " [ 3  0  0  0  0  0  0 33]]\n"
     ]
    }
   ],
   "source": [
    "y_pred = model.predict(x_test) \n",
    "y_pred = np.argmax(y_pred, axis = 1) \n",
    "label = np.argmax(y_test,axis = 1) \n",
    "\n",
    "# print(pred.shape)\n",
    "from sklearn.metrics import confusion_matrix\n",
    "print(confusion_matrix(label,y_pred))"
   ]
  },
  {
   "cell_type": "code",
   "execution_count": null,
   "id": "a6fd35ee",
   "metadata": {},
   "outputs": [],
   "source": []
  }
 ],
 "metadata": {
  "kernelspec": {
   "display_name": "Python 3 (ipykernel)",
   "language": "python",
   "name": "python3"
  },
  "language_info": {
   "codemirror_mode": {
    "name": "ipython",
    "version": 3
   },
   "file_extension": ".py",
   "mimetype": "text/x-python",
   "name": "python",
   "nbconvert_exporter": "python",
   "pygments_lexer": "ipython3",
   "version": "3.9.12"
  }
 },
 "nbformat": 4,
 "nbformat_minor": 5
}
